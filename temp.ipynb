{
 "cells": [
  {
   "cell_type": "code",
   "execution_count": 7,
   "metadata": {},
   "outputs": [],
   "source": [
    "list_cat = [\"Category1\", \"Category2\", \"CategoryX\"]\n",
    "\n",
    "# Create the category rule dynamically\n",
    "category_rule = ' | '.join(f'\"\\\\\"{cat}\\\\\"\"' for cat in list_cat)\n"
   ]
  },
  {
   "cell_type": "code",
   "execution_count": 8,
   "metadata": {},
   "outputs": [
    {
     "data": {
      "text/plain": [
       "'\"\\\\\"Category1\\\\\"\" | \"\\\\\"Category2\\\\\"\" | \"\\\\\"CategoryX\\\\\"\"'"
      ]
     },
     "execution_count": 8,
     "metadata": {},
     "output_type": "execute_result"
    }
   ],
   "source": [
    "category_rule"
   ]
  },
  {
   "cell_type": "code",
   "execution_count": 4,
   "metadata": {},
   "outputs": [
    {
     "ename": "TypeError",
     "evalue": "unsupported operand type(s) for |: 'str' and 'str'",
     "output_type": "error",
     "traceback": [
      "\u001b[0;31m---------------------------------------------------------------------------\u001b[0m",
      "\u001b[0;31mTypeError\u001b[0m                                 Traceback (most recent call last)",
      "Cell \u001b[0;32mIn[4], line 1\u001b[0m\n\u001b[0;32m----> 1\u001b[0m \u001b[38;5;124;43m\"\u001b[39;49m\u001b[38;5;130;43;01m\\\"\u001b[39;49;00m\u001b[38;5;124;43mCategory1\u001b[39;49m\u001b[38;5;130;43;01m\\\"\u001b[39;49;00m\u001b[38;5;124;43m\"\u001b[39;49m\u001b[43m \u001b[49m\u001b[38;5;241;43m|\u001b[39;49m\u001b[43m \u001b[49m\u001b[38;5;124;43m\"\u001b[39;49m\u001b[38;5;130;43;01m\\\"\u001b[39;49;00m\u001b[38;5;124;43mCategory2\u001b[39;49m\u001b[38;5;130;43;01m\\\"\u001b[39;49;00m\u001b[38;5;124;43m\"\u001b[39;49m \u001b[38;5;241m|\u001b[39m \u001b[38;5;124m\"\u001b[39m\u001b[38;5;130;01m\\\"\u001b[39;00m\u001b[38;5;124mCategoryX\u001b[39m\u001b[38;5;130;01m\\\"\u001b[39;00m\u001b[38;5;124m\"\u001b[39m\n",
      "\u001b[0;31mTypeError\u001b[0m: unsupported operand type(s) for |: 'str' and 'str'"
     ]
    }
   ],
   "source": [
    "\"\\\"Category1\\\"\" | \"\\\"Category2\\\"\" | \"\\\"CategoryX\\\"\"\n"
   ]
  },
  {
   "cell_type": "code",
   "execution_count": 9,
   "metadata": {},
   "outputs": [
    {
     "name": "stdout",
     "output_type": "stream",
     "text": [
      "[\"\"\\\"Category1\\\"\" | \"\\\"Category2\\\"\" | \"\\\"CategoryX\\\"\"\"]\n"
     ]
    }
   ],
   "source": [
    "category_rule = ' | '.join(f'\"\\\\\"{cat}\\\\\"\"' for cat in list_cat)\n",
    "\n",
    "# Print the dynamically created category rule\n",
    "print(f'[\"{category_rule}\"]')"
   ]
  },
  {
   "cell_type": "code",
   "execution_count": 11,
   "metadata": {},
   "outputs": [
    {
     "name": "stdout",
     "output_type": "stream",
     "text": [
      "\n",
      "root ::= object\n",
      "object ::= \"{\" ws members ws \"}\"\n",
      "members ::= pair (ws \",\" ws pair)*\n",
      "pair ::= brand ws \":\" ws array\n",
      "brand ::= \"\"Brand1\"\" | \"\"Brand2\"\"\n",
      "array ::= \"[\" ws elements ws \"]\"\n",
      "elements ::= category (ws \",\" ws category)* \n",
      "category ::= \"\\\"Category1\\\"\" | \"\\\"Category2\\\"\" | \"\\\"CategoryX\\\"\" | \"\\\"Categoryy\\\"\"\n",
      "string ::= \"\"\" chars \"\"\"\n",
      "chars ::= [^\"\\]*\n",
      "ws ::= [ \t\n",
      "]*\n",
      "\n"
     ]
    }
   ],
   "source": [
    "list_cat = [\"Category1\", \"Category2\", \"CategoryX\", \"Categoryy\"]\n",
    "\n",
    "# Create the category rule dynamically\n",
    "category_rule = ' | '.join(f'\"\\\\\"{cat}\\\\\"\"' for cat in list_cat)\n",
    "\n",
    "# Define the file content\n",
    "file_content = '''\n",
    "root ::= object\n",
    "object ::= \"{\" ws members ws \"}\"\n",
    "members ::= pair (ws \",\" ws pair)*\n",
    "pair ::= brand ws \":\" ws array\n",
    "brand ::= \"\\\"Brand1\\\"\" | \"\\\"Brand2\\\"\"\n",
    "array ::= \"[\" ws elements ws \"]\"\n",
    "elements ::= category (ws \",\" ws category)* \n",
    "category ::= \"\\\"Category1\\\"\" | \"\\\"Category2\\\"\"\n",
    "string ::= \"\\\"\" chars \"\\\"\"\n",
    "chars ::= [^\"\\\\]*\n",
    "ws ::= [ \\t\\n\\r]*\n",
    "'''\n",
    "\n",
    "# Replace the category line in the file content\n",
    "updated_file_content = file_content.replace('category ::= \"\\\"Category1\\\"\" | \"\\\"Category2\\\"\"', f'category ::= {category_rule}')\n",
    "\n",
    "print(updated_file_content)"
   ]
  },
  {
   "cell_type": "code",
   "execution_count": 14,
   "metadata": {},
   "outputs": [
    {
     "name": "stdout",
     "output_type": "stream",
     "text": [
      "JSON grammar loaded successfully\n"
     ]
    },
    {
     "name": "stderr",
     "output_type": "stream",
     "text": [
      "from_string grammar:\n",
      "root ::= object \n",
      "object ::= [{] ws members ws [}] \n",
      "ws ::= ws_14 \n",
      "members ::= pair members_6 \n",
      "pair ::= brand ws [:] ws array \n",
      "members_5 ::= ws [,] ws pair \n",
      "members_6 ::= members_5 members_6 | \n",
      "brand ::= [\"] [B] [r] [a] [n] [d] [1] [\"] | [\"] [B] [r] [a] [n] [d] [2] [\"] \n",
      "array ::= [[] ws elements ws []] \n",
      "elements ::= category | category ws [,] ws category | category ws [,] ws category ws [,] ws category | category ws [,] ws category ws [,] ws category ws [,] ws category \n",
      "category ::= [\"] [C] [a] [t] [e] [g] [o] [r] [y] [1] [\"] | [\"] [C] [a] [t] [e] [g] [o] [r] [y] [2] [\"] \n",
      "string ::= [\"] chars [\"] \n",
      "chars ::= chars_13 \n",
      "chars_13 ::= [^\"\\] chars_13 | \n",
      "ws_14 ::= [ <U+0009><U+000A><U+000D>] ws_14 | \n",
      "\n"
     ]
    }
   ],
   "source": [
    "from llama_cpp import LlamaGrammar\n",
    "\n",
    "general_json = r'''\n",
    "root ::= object\n",
    "object ::= \"{\" ws members ws \"}\"\n",
    "members ::= pair (ws \",\" ws pair)*\n",
    "pair ::= brand ws \":\" ws array\n",
    "brand ::= \"\\\"Brand1\\\"\" | \"\\\"Brand2\\\"\"\n",
    "array ::= \"[\" ws elements ws \"]\"\n",
    "elements ::= category | category ws \",\" ws category | category ws \",\" ws category ws \",\" ws category | category ws \",\" ws category ws \",\" ws category ws \",\" ws category\n",
    "category ::= \"\\\"Category1\\\"\" | \"\\\"Category2\\\"\"\n",
    "string ::= \"\\\"\" chars \"\\\"\"\n",
    "chars ::= [^\"\\\\]*\n",
    "ws ::= [ \\t\\n\\r]*\n",
    "\n",
    "'''\n",
    "\n",
    "# Load the grammar\n",
    "try:\n",
    "    grammar = LlamaGrammar.from_string(general_json)\n",
    "    print(\"JSON grammar loaded successfully\")\n",
    "except Exception as e:\n",
    "    print(f\"Error loading JSON grammar: {e}\")"
   ]
  },
  {
   "cell_type": "code",
   "execution_count": null,
   "metadata": {},
   "outputs": [],
   "source": []
  }
 ],
 "metadata": {
  "kernelspec": {
   "display_name": "berserk_3_12",
   "language": "python",
   "name": "python3"
  },
  "language_info": {
   "codemirror_mode": {
    "name": "ipython",
    "version": 3
   },
   "file_extension": ".py",
   "mimetype": "text/x-python",
   "name": "python",
   "nbconvert_exporter": "python",
   "pygments_lexer": "ipython3",
   "version": "3.12.4"
  }
 },
 "nbformat": 4,
 "nbformat_minor": 2
}
